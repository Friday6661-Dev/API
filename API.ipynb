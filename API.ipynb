{
  "nbformat": 4,
  "nbformat_minor": 0,
  "metadata": {
    "colab": {
      "name": "Homework 3 - API.ipynb",
      "provenance": [],
      "authorship_tag": "ABX9TyPTnhnAI3aKEN/mFEh9WM7V"
    },
    "kernelspec": {
      "name": "python3",
      "display_name": "Python 3"
    },
    "language_info": {
      "name": "python"
    }
  },
  "cells": [
    {
      "cell_type": "markdown",
      "metadata": {
        "id": "-qrQXXfMzY9a"
      },
      "source": [
        "# Install Library pyowm"
      ]
    },
    {
      "cell_type": "code",
      "metadata": {
        "colab": {
          "base_uri": "https://localhost:8080/"
        },
        "id": "C1GYpVu-rKmu",
        "outputId": "be204577-8efd-478d-e640-0d0a2ceb7015"
      },
      "source": [
        "pip install pyowm"
      ],
      "execution_count": 2,
      "outputs": [
        {
          "output_type": "stream",
          "name": "stdout",
          "text": [
            "Collecting pyowm\n",
            "  Downloading pyowm-3.2.0-py3-none-any.whl (3.1 MB)\n",
            "\u001b[K     |████████████████████████████████| 3.1 MB 5.1 MB/s \n",
            "\u001b[?25hRequirement already satisfied: PySocks<2,>=1.7.1 in /usr/local/lib/python3.7/dist-packages (from pyowm) (1.7.1)\n",
            "Requirement already satisfied: requests<3,>=2.20.0 in /usr/local/lib/python3.7/dist-packages (from pyowm) (2.23.0)\n",
            "Collecting geojson<3,>=2.3.0\n",
            "  Downloading geojson-2.5.0-py2.py3-none-any.whl (14 kB)\n",
            "Requirement already satisfied: urllib3!=1.25.0,!=1.25.1,<1.26,>=1.21.1 in /usr/local/lib/python3.7/dist-packages (from requests<3,>=2.20.0->pyowm) (1.24.3)\n",
            "Requirement already satisfied: certifi>=2017.4.17 in /usr/local/lib/python3.7/dist-packages (from requests<3,>=2.20.0->pyowm) (2021.5.30)\n",
            "Requirement already satisfied: chardet<4,>=3.0.2 in /usr/local/lib/python3.7/dist-packages (from requests<3,>=2.20.0->pyowm) (3.0.4)\n",
            "Requirement already satisfied: idna<3,>=2.5 in /usr/local/lib/python3.7/dist-packages (from requests<3,>=2.20.0->pyowm) (2.10)\n",
            "Installing collected packages: geojson, pyowm\n",
            "Successfully installed geojson-2.5.0 pyowm-3.2.0\n"
          ]
        }
      ]
    },
    {
      "cell_type": "markdown",
      "metadata": {
        "id": "LeYZKX2B3MrD"
      },
      "source": [
        "# Link Website API\n",
        "[OpenWeather](https://openweathermap.org/)"
      ]
    },
    {
      "cell_type": "markdown",
      "metadata": {
        "id": "90Unwsrdzgw7"
      },
      "source": [
        "# Import Library"
      ]
    },
    {
      "cell_type": "code",
      "metadata": {
        "id": "6PnWSMd0q3sT"
      },
      "source": [
        "from pyowm.owm import OWM\n",
        "owm = OWM('1f5c8b5751922d0d42d3e3893e2672be') # tempat memasukan API key"
      ],
      "execution_count": 167,
      "outputs": []
    },
    {
      "cell_type": "markdown",
      "metadata": {
        "id": "wJ-I8WEfzqMT"
      },
      "source": [
        "# Mengambil Data untuk Semua Kota Di Indonesia (kode = ID) yang Berawalan Huruf 'j'"
      ]
    },
    {
      "cell_type": "code",
      "metadata": {
        "colab": {
          "base_uri": "https://localhost:8080/"
        },
        "id": "niN_V1l9LXda",
        "outputId": "d7455cde-391a-46cf-9446-904f13cc6b83"
      },
      "source": [
        "reg = owm.city_id_registry()\n",
        "list_of_locations = reg.locations_for('j', country='ID', matching='startswith')\n",
        "list_of_locations"
      ],
      "execution_count": 151,
      "outputs": [
        {
          "output_type": "execute_result",
          "data": {
            "text/plain": [
              "[<pyowm.weatherapi25.location.Location - id=7529289, name=Jabajero, lon=115.175018, lat=-8.72767>,\n",
              " <pyowm.weatherapi25.location.Location - id=7579621, name=Jabalan, lon=111.966599, lat=-8.0822>,\n",
              " <pyowm.weatherapi25.location.Location - id=7034573, name=Jabon, lon=111.965103, lat=-8.1645>,\n",
              " <pyowm.weatherapi25.location.Location - id=8073894, name=Jabranti, lon=108.678001, lat=-7.1198>,\n",
              " <pyowm.weatherapi25.location.Location - id=1642954, name=Jabung, lon=105.667519, lat=-5.46314>,\n",
              " <pyowm.weatherapi25.location.Location - id=7375185, name=Jabung, lon=112.264603, lat=-8.1343>,\n",
              " <pyowm.weatherapi25.location.Location - id=8079935, name=Jabung, lon=112.2295, lat=-6.9963>,\n",
              " <pyowm.weatherapi25.location.Location - id=7569959, name=Jadho, lon=121.051102, lat=-8.8428>,\n",
              " <pyowm.weatherapi25.location.Location - id=8061009, name=Jadi, lon=111.271698, lat=-6.7772>,\n",
              " <pyowm.weatherapi25.location.Location - id=8076549, name=Jadi, lon=111.991798, lat=-6.9603>,\n",
              " <pyowm.weatherapi25.location.Location - id=8078533, name=Jadikrajan, lon=112.003601, lat=-6.9292>,\n",
              " <pyowm.weatherapi25.location.Location - id=8052152, name=Jaga, lon=108.268997, lat=-7.0451>,\n",
              " <pyowm.weatherapi25.location.Location - id=8054316, name=Jagabaya Dua, lon=108.3946, lat=-7.1053>,\n",
              " <pyowm.weatherapi25.location.Location - id=1642941, name=Jagakarsa, lon=106.821404, lat=-6.3341>,\n",
              " <pyowm.weatherapi25.location.Location - id=8054155, name=Jagara, lon=108.417297, lat=-7.0092>,\n",
              " <pyowm.weatherapi25.location.Location - id=8052178, name=Jagasari, lon=108.367599, lat=-7.0065>,\n",
              " <pyowm.weatherapi25.location.Location - id=1642932, name=Jager, lon=107.944603, lat=-7.177>,\n",
              " <pyowm.weatherapi25.location.Location - id=1985537, name=Jagirsidosermo, lon=112.754532, lat=-7.30678>,\n",
              " <pyowm.weatherapi25.location.Location - id=7375440, name=Jagong, lon=111.253403, lat=-7.0481>,\n",
              " <pyowm.weatherapi25.location.Location - id=8080538, name=Jagran, lon=112.353897, lat=-6.9987>,\n",
              " <pyowm.weatherapi25.location.Location - id=7844386, name=Jaha, lon=106.410797, lat=-6.5869>,\n",
              " <pyowm.weatherapi25.location.Location - id=8074711, name=Jahulu, lon=111.745903, lat=-6.8106>,\n",
              " <pyowm.weatherapi25.location.Location - id=7035291, name=Jajar, lon=112.295601, lat=-8.0727>,\n",
              " <pyowm.weatherapi25.location.Location - id=1642913, name=Jajawai, lon=108.478104, lat=-7.5682>,\n",
              " <pyowm.weatherapi25.location.Location - id=7847537, name=Jajaway, lon=106.757896, lat=-7.2652>,\n",
              " <pyowm.weatherapi25.location.Location - id=1642911, name=Jakarta, lon=106.845131, lat=-6.21462>,\n",
              " <pyowm.weatherapi25.location.Location - id=1642902, name=Jaken, lon=111.242897, lat=-6.7803>,\n",
              " <pyowm.weatherapi25.location.Location - id=1642901, name=Jakenan, lon=111.164299, lat=-6.762>,\n",
              " <pyowm.weatherapi25.location.Location - id=7780078, name=Jalanbaru, lon=106.1203, lat=-6.2612>,\n",
              " <pyowm.weatherapi25.location.Location - id=1642892, name=Jalang, lon=120.321602, lat=-4.0383>,\n",
              " <pyowm.weatherapi25.location.Location - id=7338330, name=Jalasenga, lon=121.805099, lat=-8.5302>,\n",
              " <pyowm.weatherapi25.location.Location - id=1642890, name=Jalatrang, lon=108.348297, lat=-7.2373>,\n",
              " <pyowm.weatherapi25.location.Location - id=7037542, name=Jalinan, lon=113.819099, lat=-8.2542>,\n",
              " <pyowm.weatherapi25.location.Location - id=7765694, name=Jalupang Dua, lon=105.996201, lat=-6.5415>,\n",
              " <pyowm.weatherapi25.location.Location - id=8025880, name=Jamanis, lon=108.183601, lat=-7.1894>,\n",
              " <pyowm.weatherapi25.location.Location - id=8070155, name=Jamban, lon=108.695099, lat=-7.4204>,\n",
              " <pyowm.weatherapi25.location.Location - id=1965671, name=Jambangan, lon=112.738213, lat=-8.16225>,\n",
              " <pyowm.weatherapi25.location.Location - id=7350818, name=Jambearum, lon=113.923897, lat=-8.0493>,\n",
              " <pyowm.weatherapi25.location.Location - id=7037147, name=Jambekumbu, lon=113.067398, lat=-8.1006>,\n",
              " <pyowm.weatherapi25.location.Location - id=7350321, name=Jambesari, lon=113.384003, lat=-8.0161>,\n",
              " <pyowm.weatherapi25.location.Location - id=8068759, name=Jambeyan, lon=111.580803, lat=-6.729>,\n",
              " <pyowm.weatherapi25.location.Location - id=1642858, name=Jambi City, lon=103.616669, lat=-1.6>,\n",
              " <pyowm.weatherapi25.location.Location - id=6385783, name=Jambuandap, lon=109.027496, lat=-7.56722>,\n",
              " <pyowm.weatherapi25.location.Location - id=7764766, name=Jambubol, lon=105.872803, lat=-6.5465>,\n",
              " <pyowm.weatherapi25.location.Location - id=6387918, name=Jambuluwuk, lon=108.870201, lat=-7.3135>,\n",
              " <pyowm.weatherapi25.location.Location - id=7035576, name=Jambuwerkrajan, lon=112.462997, lat=-8.0934>,\n",
              " <pyowm.weatherapi25.location.Location - id=7780929, name=Jami, lon=105.882599, lat=-6.3681>,\n",
              " <pyowm.weatherapi25.location.Location - id=8075931, name=Jamong, lon=111.855202, lat=-6.8016>,\n",
              " <pyowm.weatherapi25.location.Location - id=1642834, name=Jampang Kulon, lon=106.625603, lat=-7.2579>,\n",
              " <pyowm.weatherapi25.location.Location - id=1642832, name=Jampang Tengah, lon=106.801399, lat=-7.0568>,\n",
              " <pyowm.weatherapi25.location.Location - id=8045282, name=Jamupu, lon=108.252502, lat=-7.4931>,\n",
              " <pyowm.weatherapi25.location.Location - id=1642822, name=Janaka, lon=105.881371, lat=-6.31671>,\n",
              " <pyowm.weatherapi25.location.Location - id=7410248, name=Janapria, lon=116.401497, lat=-8.6952>,\n",
              " <pyowm.weatherapi25.location.Location - id=8080451, name=Jangkungkusumo, lon=112.284599, lat=-6.9873>,\n",
              " <pyowm.weatherapi25.location.Location - id=7920901, name=Jangkurang Kidul, lon=107.908699, lat=-7.2072>,\n",
              " <pyowm.weatherapi25.location.Location - id=8059662, name=Janglapa, lon=108.505302, lat=-7.1437>,\n",
              " <pyowm.weatherapi25.location.Location - id=8070233, name=Jangraga, lon=108.670799, lat=-7.4872>,\n",
              " <pyowm.weatherapi25.location.Location - id=8026120, name=Jantake, lon=108.156303, lat=-7.2475>,\n",
              " <pyowm.weatherapi25.location.Location - id=8022879, name=Januti, lon=108.129097, lat=-7.4709>,\n",
              " <pyowm.weatherapi25.location.Location - id=1642775, name=Japah, lon=111.290298, lat=-6.9423>,\n",
              " <pyowm.weatherapi25.location.Location - id=8068238, name=Japeledok, lon=111.441101, lat=-6.7443>,\n",
              " <pyowm.weatherapi25.location.Location - id=1642776, name=Japerejo, lon=111.449501, lat=-6.7495>,\n",
              " <pyowm.weatherapi25.location.Location - id=1642773, name=Japura, lon=102.349998, lat=-0.31667>,\n",
              " <pyowm.weatherapi25.location.Location - id=1642765, name=Jarangan, lon=112.446297, lat=-8.1078>,\n",
              " <pyowm.weatherapi25.location.Location - id=1642760, name=Jarurejo, lon=111.885201, lat=-6.9>,\n",
              " <pyowm.weatherapi25.location.Location - id=7846042, name=Jasugih Selatan, lon=106.001503, lat=-6.4347>,\n",
              " <pyowm.weatherapi25.location.Location - id=1642755, name=Jatake, lon=106.256401, lat=-6.8727>,\n",
              " <pyowm.weatherapi25.location.Location - id=1642754, name=Jaten, lon=110.897499, lat=-7.57722>,\n",
              " <pyowm.weatherapi25.location.Location - id=7766873, name=Jati, lon=106.195801, lat=-6.5153>,\n",
              " <pyowm.weatherapi25.location.Location - id=7920567, name=Jati, lon=107.966904, lat=-7.1959>,\n",
              " <pyowm.weatherapi25.location.Location - id=7921813, name=Jati, lon=107.911797, lat=-7.1158>,\n",
              " <pyowm.weatherapi25.location.Location - id=8023786, name=Jati, lon=108.2033, lat=-7.3037>,\n",
              " <pyowm.weatherapi25.location.Location - id=7375634, name=Jatiarum, lon=113.221703, lat=-8.244>,\n",
              " <pyowm.weatherapi25.location.Location - id=1642726, name=Jatibarang, lon=108.315277, lat=-6.47472>,\n",
              " <pyowm.weatherapi25.location.Location - id=7034805, name=Jatidowo, lon=112.048599, lat=-8.149>,\n",
              " <pyowm.weatherapi25.location.Location - id=1965628, name=Jatikerto, lon=112.538101, lat=-8.1369>,\n",
              " <pyowm.weatherapi25.location.Location - id=7333254, name=Jatiklampok, lon=111.3964, lat=-7.0907>,\n",
              " <pyowm.weatherapi25.location.Location - id=1642717, name=Jatilawang, lon=109.11972, lat=-7.53444>,\n",
              " <pyowm.weatherapi25.location.Location - id=7037707, name=Jatimulyo, lon=114.257103, lat=-8.5136>,\n",
              " <pyowm.weatherapi25.location.Location - id=8064210, name=Jatinagara Kulon, lon=108.418999, lat=-7.1719>,\n",
              " <pyowm.weatherapi25.location.Location - id=1642708, name=Jatinagara, lon=108.402802, lat=-7.1735>,\n",
              " <pyowm.weatherapi25.location.Location - id=1642702, name=Jatipamor, lon=108.329002, lat=-7.0028>,\n",
              " <pyowm.weatherapi25.location.Location - id=7787580, name=Jatiraya, lon=106.017609, lat=-6.80823>,\n",
              " <pyowm.weatherapi25.location.Location - id=8073168, name=Jatirego, lon=111.520401, lat=-6.8401>,\n",
              " <pyowm.weatherapi25.location.Location - id=1642694, name=Jatirejo, lon=112.418503, lat=-7.5799>,\n",
              " <pyowm.weatherapi25.location.Location - id=7034598, name=Jatirejo, lon=111.880096, lat=-8.1822>,\n",
              " <pyowm.weatherapi25.location.Location - id=7034990, name=Jatirejo, lon=112.488899, lat=-8.1273>,\n",
              " <pyowm.weatherapi25.location.Location - id=8071069, name=Jatirejo, lon=111.471397, lat=-6.9204>,\n",
              " <pyowm.weatherapi25.location.Location - id=1642693, name=Jatirogo, lon=111.659203, lat=-6.8858>,\n",
              " <pyowm.weatherapi25.location.Location - id=1642691, name=Jatiroto, lon=113.363701, lat=-8.1218>,\n",
              " <pyowm.weatherapi25.location.Location - id=1642692, name=Jatiroto, lon=111.116669, lat=-7.88333>,\n",
              " <pyowm.weatherapi25.location.Location - id=7581842, name=Jatisari Satu, lon=114.101501, lat=-7.7637>,\n",
              " <pyowm.weatherapi25.location.Location - id=7406224, name=Jatisari, lon=113.635201, lat=-8.3183>,\n",
              " <pyowm.weatherapi25.location.Location - id=7860122, name=Jatisari, lon=107.015549, lat=-7.41001>,\n",
              " <pyowm.weatherapi25.location.Location - id=8059683, name=Jatisari, lon=108.548798, lat=-7.1534>,\n",
              " <pyowm.weatherapi25.location.Location - id=8068668, name=Jatisari, lon=111.508499, lat=-6.6333>,\n",
              " <pyowm.weatherapi25.location.Location - id=8074715, name=Jatisari, lon=111.739304, lat=-6.8253>,\n",
              " <pyowm.weatherapi25.location.Location - id=1642684, name=Jatiwangi, lon=108.262779, lat=-6.73361>,\n",
              " <pyowm.weatherapi25.location.Location - id=8020939, name=Jatiwangi, lon=108.227699, lat=-7.661>,\n",
              " <pyowm.weatherapi25.location.Location - id=8045236, name=Jatiwangi, lon=108.258003, lat=-7.3785>,\n",
              " <pyowm.weatherapi25.location.Location - id=1642672, name=Jawa Barat, lon=107.5, lat=-6.75>,\n",
              " <pyowm.weatherapi25.location.Location - id=1642668, name=Jawa Timur, lon=112.509903, lat=-7.7394>,\n",
              " <pyowm.weatherapi25.location.Location - id=7089118, name=Jawa, lon=120.6371, lat=-8.562>,\n",
              " <pyowm.weatherapi25.location.Location - id=7570046, name=Jawagae, lon=121.236603, lat=-8.7681>,\n",
              " <pyowm.weatherapi25.location.Location - id=7415125, name=Jawakisa, lon=121.223801, lat=-8.6604>,\n",
              " <pyowm.weatherapi25.location.Location - id=7089402, name=Jawatiwa, lon=121.280899, lat=-8.7073>,\n",
              " <pyowm.weatherapi25.location.Location - id=7915023, name=Jayabakti, lon=107.884903, lat=-7.4528>,\n",
              " <pyowm.weatherapi25.location.Location - id=2082600, name=Jayapura, lon=140.699997, lat=-2.53333>,\n",
              " <pyowm.weatherapi25.location.Location - id=8017911, name=Jayapura, lon=108.032204, lat=-7.352>,\n",
              " <pyowm.weatherapi25.location.Location - id=7920440, name=Jayaraga Kaler, lon=107.900398, lat=-7.2043>,\n",
              " <pyowm.weatherapi25.location.Location - id=8045094, name=Jayasari, lon=108.348801, lat=-7.538>,\n",
              " <pyowm.weatherapi25.location.Location - id=8045528, name=Jayawangi, lon=108.273499, lat=-7.4592>,\n",
              " <pyowm.weatherapi25.location.Location - id=7035378, name=Jeblog Satu, lon=112.262497, lat=-8.1186>,\n",
              " <pyowm.weatherapi25.location.Location - id=7376376, name=Jeding, lon=114.144699, lat=-7.9171>,\n",
              " <pyowm.weatherapi25.location.Location - id=7081633, name=Jegu, lon=112.234901, lat=-8.1512>,\n",
              " <pyowm.weatherapi25.location.Location - id=7335893, name=Jejelok, lon=116.165657, lat=-8.61206>,\n",
              " <pyowm.weatherapi25.location.Location - id=8071163, name=Jejerukrajan, lon=111.449203, lat=-6.9751>,\n",
              " <pyowm.weatherapi25.location.Location - id=1642628, name=Jekulo, lon=110.926201, lat=-6.8057>,\n",
              " <pyowm.weatherapi25.location.Location - id=1642621, name=Jelat, lon=108.3853, lat=-7.2839>,\n",
              " <pyowm.weatherapi25.location.Location - id=7581958, name=Jelateng Timur, lon=116.084999, lat=-8.7548>,\n",
              " <pyowm.weatherapi25.location.Location - id=1642617, name=Jelbuk, lon=113.759201, lat=-8.0839>,\n",
              " <pyowm.weatherapi25.location.Location - id=8060259, name=Jembangan, lon=111.211098, lat=-6.7113>,\n",
              " <pyowm.weatherapi25.location.Location - id=8071119, name=Jembangan, lon=111.380203, lat=-6.954>,\n",
              " <pyowm.weatherapi25.location.Location - id=7920283, name=Jembatandua, lon=107.9879, lat=-7.1361>,\n",
              " <pyowm.weatherapi25.location.Location - id=7410342, name=Jembe Timur, lon=116.411301, lat=-8.715>,\n",
              " <pyowm.weatherapi25.location.Location - id=1642588, name=Jember, lon=113.703171, lat=-8.16604>,\n",
              " <pyowm.weatherapi25.location.Location - id=8060321, name=Jemblem, lon=111.239502, lat=-6.7497>,\n",
              " <pyowm.weatherapi25.location.Location - id=6742891, name=Jembul Kulon, lon=110.998299, lat=-6.5469>,\n",
              " <pyowm.weatherapi25.location.Location - id=7545578, name=Jempongwareng, lon=116.094498, lat=-8.5646>,\n",
              " <pyowm.weatherapi25.location.Location - id=8076245, name=Jenang Selatan, lon=108.759903, lat=-7.3002>,\n",
              " <pyowm.weatherapi25.location.Location - id=1642566, name=Jenggawah, lon=113.647903, lat=-8.2661>,\n",
              " <pyowm.weatherapi25.location.Location - id=7034711, name=Jengglungharjo, lon=111.895599, lat=-8.241>,\n",
              " <pyowm.weatherapi25.location.Location - id=7405983, name=Jenggolo Barat, lon=112.5448, lat=-8.1711>,\n",
              " <pyowm.weatherapi25.location.Location - id=7414497, name=Jeong, lon=120.230202, lat=-8.5852>,\n",
              " <pyowm.weatherapi25.location.Location - id=7333200, name=Jepang Satu, lon=111.421501, lat=-7.0142>,\n",
              " <pyowm.weatherapi25.location.Location - id=7375399, name=Jepang, lon=111.257202, lat=-7.024>,\n",
              " <pyowm.weatherapi25.location.Location - id=1642549, name=Jepara, lon=105.704407, lat=-5.16948>,\n",
              " <pyowm.weatherapi25.location.Location - id=8056421, name=Jepat Kidul, lon=111.051903, lat=-6.5574>,\n",
              " <pyowm.weatherapi25.location.Location - id=1642541, name=Jepon, lon=111.4795, lat=-6.9726>,\n",
              " <pyowm.weatherapi25.location.Location - id=8071176, name=Jeponkrajan, lon=111.478996, lat=-6.979>,\n",
              " <pyowm.weatherapi25.location.Location - id=7579626, name=Jepun, lon=111.910797, lat=-8.0755>,\n",
              " <pyowm.weatherapi25.location.Location - id=8060303, name=Jepuro, lon=111.1446, lat=-6.728>,\n",
              " <pyowm.weatherapi25.location.Location - id=5597034, name=Jerome, lon=-114.518646, lat=42.724072>,\n",
              " <pyowm.weatherapi25.location.Location - id=1965673, name=Jeru, lon=112.675499, lat=-8.16151>,\n",
              " <pyowm.weatherapi25.location.Location - id=8068215, name=Jeruk, lon=111.440598, lat=-6.7353>,\n",
              " <pyowm.weatherapi25.location.Location - id=8074012, name=Jeruk, lon=111.507004, lat=-6.9386>,\n",
              " <pyowm.weatherapi25.location.Location - id=1642514, name=Jeruklegi, lon=109.019173, lat=-7.62444>,\n",
              " <pyowm.weatherapi25.location.Location - id=8058305, name=Jetak Kulon, lon=111.091003, lat=-6.6739>,\n",
              " <pyowm.weatherapi25.location.Location - id=7375398, name=Jetak, lon=111.263802, lat=-7.032>,\n",
              " <pyowm.weatherapi25.location.Location - id=8058306, name=Jetak, lon=111.098198, lat=-6.6725>,\n",
              " <pyowm.weatherapi25.location.Location - id=8076519, name=Jetak, lon=111.906998, lat=-6.9562>,\n",
              " <pyowm.weatherapi25.location.Location - id=7035967, name=Jetis, lon=111.517899, lat=-7.2144>,\n",
              " <pyowm.weatherapi25.location.Location - id=7036678, name=Jetis, lon=112.419899, lat=-7.1204>,\n",
              " <pyowm.weatherapi25.location.Location - id=8071186, name=Jetis, lon=111.410202, lat=-6.9764>,\n",
              " <pyowm.weatherapi25.location.Location - id=8075153, name=Jetis, lon=111.626297, lat=-6.9122>,\n",
              " <pyowm.weatherapi25.location.Location - id=8140983, name=Jetis, lon=112.432297, lat=-6.9776>,\n",
              " <pyowm.weatherapi25.location.Location - id=8190952, name=Jetis, lon=113.564796, lat=-8.201>,\n",
              " <pyowm.weatherapi25.location.Location - id=1642467, name=Jimbaran, lon=115.160057, lat=-8.79093>,\n",
              " <pyowm.weatherapi25.location.Location - id=8074068, name=Jinanten, lon=111.572998, lat=-6.8756>,\n",
              " <pyowm.weatherapi25.location.Location - id=7081676, name=Jinglong, lon=112.230759, lat=-8.16576>,\n",
              " <pyowm.weatherapi25.location.Location - id=1642456, name=Jiput, lon=105.901398, lat=-6.3442>,\n",
              " <pyowm.weatherapi25.location.Location - id=7380122, name=Jitapanda, lon=121.956902, lat=-8.7765>,\n",
              " <pyowm.weatherapi25.location.Location - id=8074026, name=Jiworejo, lon=111.507599, lat=-6.9815>,\n",
              " <pyowm.weatherapi25.location.Location - id=8074097, name=Jlodro, lon=111.5839, lat=-6.9274>,\n",
              " <pyowm.weatherapi25.location.Location - id=1642437, name=Jogonalan, lon=110.53611, lat=-7.70361>,\n",
              " <pyowm.weatherapi25.location.Location - id=8073255, name=Joho, lon=111.586098, lat=-6.8664>,\n",
              " <pyowm.weatherapi25.location.Location - id=8068674, name=Johogunung, lon=111.502502, lat=-6.7175>,\n",
              " <pyowm.weatherapi25.location.Location - id=1642420, name=Jojogan, lon=111.788101, lat=-6.9709>,\n",
              " <pyowm.weatherapi25.location.Location - id=8068130, name=Jolotundo, lon=111.446503, lat=-6.7039>,\n",
              " <pyowm.weatherapi25.location.Location - id=1642414, name=Jombang, lon=112.23307, lat=-7.54595>,\n",
              " <pyowm.weatherapi25.location.Location - id=7350563, name=Jombang, lon=113.302597, lat=-8.2329>,\n",
              " <pyowm.weatherapi25.location.Location - id=7333215, name=Jomblang, lon=111.440002, lat=-7.0184>,\n",
              " <pyowm.weatherapi25.location.Location - id=8075125, name=Jombok, lon=111.645798, lat=-6.8823>,\n",
              " <pyowm.weatherapi25.location.Location - id=8052335, name=Jongorsari, lon=108.279602, lat=-7.1008>,\n",
              " <pyowm.weatherapi25.location.Location - id=8058326, name=Jontro, lon=111.070801, lat=-6.692>,\n",
              " <pyowm.weatherapi25.location.Location - id=7377900, name=Jorok Dalam, lon=117.1353, lat=-8.4112>,\n",
              " <pyowm.weatherapi25.location.Location - id=7086717, name=Jorong Lauk, lon=116.575104, lat=-8.5666>,\n",
              " <pyowm.weatherapi25.location.Location - id=7335362, name=Jorowaru Daya, lon=116.4814, lat=-8.7872>,\n",
              " <pyowm.weatherapi25.location.Location - id=7036579, name=Jrebeng, lon=112.466202, lat=-7.0051>,\n",
              " <pyowm.weatherapi25.location.Location - id=7083205, name=Jubung, lon=113.637398, lat=-8.1968>,\n",
              " <pyowm.weatherapi25.location.Location - id=8052293, name=Jugantang, lon=108.330101, lat=-7.1004>,\n",
              " <pyowm.weatherapi25.location.Location - id=7780132, name=Juhut, lon=106.1064, lat=-6.2955>,\n",
              " <pyowm.weatherapi25.location.Location - id=8070929, name=Jukung, lon=111.405602, lat=-6.843>,\n",
              " <pyowm.weatherapi25.location.Location - id=7083070, name=Jumerto, lon=113.688103, lat=-8.1379>,\n",
              " <pyowm.weatherapi25.location.Location - id=7351922, name=Juranalas, lon=116.997276, lat=-8.52296>,\n",
              " <pyowm.weatherapi25.location.Location - id=8068034, name=Jurangjero, lon=111.4832, lat=-6.6455>,\n",
              " <pyowm.weatherapi25.location.Location - id=8073998, name=Jurangjero, lon=111.500397, lat=-6.9035>,\n",
              " <pyowm.weatherapi25.location.Location - id=1642317, name=Juwana, lon=111.151398, lat=-6.715>,\n",
              " <pyowm.weatherapi25.location.Location - id=8068725, name=Juwen, lon=111.565903, lat=-6.7099>]"
            ]
          },
          "metadata": {},
          "execution_count": 151
        }
      ]
    },
    {
      "cell_type": "markdown",
      "metadata": {
        "id": "njxuFmDQ00UT"
      },
      "source": [
        "# Memasukan ID, Nama Kota, Longitude, dan Latitude kedalam List"
      ]
    },
    {
      "cell_type": "code",
      "metadata": {
        "id": "zkdZtt91LpTo"
      },
      "source": [
        "Ids = []\n",
        "Nama_Kota = []\n",
        "Longitude = []\n",
        "Latitude = []\n",
        "for i in list_of_locations:\n",
        "  Ids.append(i.id)\n",
        "  Nama_Kota.append(i.name)\n",
        "  Longitude.append(i.lon)\n",
        "  Latitude.append(i.lat)\n"
      ],
      "execution_count": null,
      "outputs": []
    },
    {
      "cell_type": "markdown",
      "metadata": {
        "id": "nhsVQyX21KCy"
      },
      "source": [
        "# Membuat Variabel untuk Inisialisasi Class Weather Manager"
      ]
    },
    {
      "cell_type": "code",
      "metadata": {
        "id": "ks5wKDOUG-gp"
      },
      "source": [
        "mgr = owm.weather_manager()"
      ],
      "execution_count": 142,
      "outputs": []
    },
    {
      "cell_type": "markdown",
      "metadata": {
        "id": "r3sqrsiJ1ihQ"
      },
      "source": [
        "# Mengambil Data Kecepatan Angin dan Memasukan kedalam Variabel wind_speed dengan Tipe Data List"
      ]
    },
    {
      "cell_type": "code",
      "metadata": {
        "id": "0_egCLa2PHdh"
      },
      "source": [
        "wind_speed = []\n",
        "for i in Ids:\n",
        "  observation = mgr.weather_at_id(i)\n",
        "  wind_dict_in_meters_per_sec = observation.weather.wind()\n",
        "  wind_speed.append(wind_dict_in_meters_per_sec['speed'])"
      ],
      "execution_count": 165,
      "outputs": []
    },
    {
      "cell_type": "markdown",
      "metadata": {
        "id": "DIsEt_xY1w_L"
      },
      "source": [
        "# Mengambil Data Temperatur Maksimum, Minimum dan Memasukannya kedalam Variabel max_temp, min_temp dengan Tipe Data List"
      ]
    },
    {
      "cell_type": "code",
      "metadata": {
        "id": "DuaMZPFPcgcx"
      },
      "source": [
        "max_temp = []\n",
        "min_temp = []\n",
        "for i in Ids:\n",
        "  weather = mgr.weather_at_id(i).weather\n",
        "  temp_dict_celsius = weather.temperature('celsius')\n",
        "  max_temp.append(temp_dict_celsius['temp_max'])\n",
        "  min_temp.append(temp_dict_celsius['temp_min'])\n"
      ],
      "execution_count": 155,
      "outputs": []
    },
    {
      "cell_type": "markdown",
      "metadata": {
        "id": "3KJEgqw12CP6"
      },
      "source": [
        "#Mengambil Data Cuaca dan Memasukan kedalam Variabel cuaca dengan Tipe Data List"
      ]
    },
    {
      "cell_type": "code",
      "metadata": {
        "id": "t5rYliWTwa0s"
      },
      "source": [
        "cuaca = []\n",
        "for i in Ids:\n",
        "  observation = mgr.weather_at_id(i)  \n",
        "  weather = observation.weather        \n",
        "  cuaca.append(weather.detailed_status)"
      ],
      "execution_count": 160,
      "outputs": []
    },
    {
      "cell_type": "markdown",
      "metadata": {
        "id": "95UDQGsg2Hw_"
      },
      "source": [
        "# Import Library Pandas dan Numpy"
      ]
    },
    {
      "cell_type": "code",
      "metadata": {
        "id": "ryL99_i8vIeU"
      },
      "source": [
        "import pandas as pd\n",
        "import numpy as np"
      ],
      "execution_count": 157,
      "outputs": []
    },
    {
      "cell_type": "markdown",
      "metadata": {
        "id": "ISlUc0EF2QNH"
      },
      "source": [
        "# Membuat Dataframe"
      ]
    },
    {
      "cell_type": "code",
      "metadata": {
        "id": "NWyzO9tNvQoB"
      },
      "source": [
        "data = pd.DataFrame(columns=['ID', 'Nama Kota', 'Longitude', 'Latitude', 'Cuaca', 'Kecepatan Angin', 'Temperatur Maksimum', 'Temperatur Minimum'])"
      ],
      "execution_count": null,
      "outputs": []
    },
    {
      "cell_type": "markdown",
      "metadata": {
        "id": "QaoZR-Y82YIv"
      },
      "source": [
        "# Memasukan Data ke Masing - Masing Kolom"
      ]
    },
    {
      "cell_type": "code",
      "metadata": {
        "colab": {
          "base_uri": "https://localhost:8080/",
          "height": 204
        },
        "id": "Hi-t2RLqx820",
        "outputId": "fb38ad37-4184-4424-f59f-e520192003ce"
      },
      "source": [
        "data['ID'] = Ids\n",
        "data['Nama Kota'] = Nama_Kota\n",
        "data['Longitude'] = Longitude\n",
        "data['Latitude'] = Latitude\n",
        "data['Cuaca'] = cuaca\n",
        "data['Kecepatan Angin'] = wind_speed\n",
        "data['Temperatur Maksimum'] = max_temp\n",
        "data['Temperatur Minimum'] = min_temp\n",
        "data.head()"
      ],
      "execution_count": 163,
      "outputs": [
        {
          "output_type": "execute_result",
          "data": {
            "text/html": [
              "<div>\n",
              "<style scoped>\n",
              "    .dataframe tbody tr th:only-of-type {\n",
              "        vertical-align: middle;\n",
              "    }\n",
              "\n",
              "    .dataframe tbody tr th {\n",
              "        vertical-align: top;\n",
              "    }\n",
              "\n",
              "    .dataframe thead th {\n",
              "        text-align: right;\n",
              "    }\n",
              "</style>\n",
              "<table border=\"1\" class=\"dataframe\">\n",
              "  <thead>\n",
              "    <tr style=\"text-align: right;\">\n",
              "      <th></th>\n",
              "      <th>ID</th>\n",
              "      <th>Nama Kota</th>\n",
              "      <th>Longitude</th>\n",
              "      <th>Latitude</th>\n",
              "      <th>Cuaca</th>\n",
              "      <th>Kecepatan Angin</th>\n",
              "      <th>Temperatur Maksimum</th>\n",
              "      <th>Temperatur Minimum</th>\n",
              "    </tr>\n",
              "  </thead>\n",
              "  <tbody>\n",
              "    <tr>\n",
              "      <th>0</th>\n",
              "      <td>7529289</td>\n",
              "      <td>Jabajero</td>\n",
              "      <td>115.175018</td>\n",
              "      <td>-8.72767</td>\n",
              "      <td>few clouds</td>\n",
              "      <td>2.57</td>\n",
              "      <td>26.97</td>\n",
              "      <td>26.97</td>\n",
              "    </tr>\n",
              "    <tr>\n",
              "      <th>1</th>\n",
              "      <td>7579621</td>\n",
              "      <td>Jabalan</td>\n",
              "      <td>111.966599</td>\n",
              "      <td>-8.08220</td>\n",
              "      <td>overcast clouds</td>\n",
              "      <td>1.38</td>\n",
              "      <td>24.17</td>\n",
              "      <td>24.17</td>\n",
              "    </tr>\n",
              "    <tr>\n",
              "      <th>2</th>\n",
              "      <td>7034573</td>\n",
              "      <td>Jabon</td>\n",
              "      <td>111.965103</td>\n",
              "      <td>-8.16450</td>\n",
              "      <td>overcast clouds</td>\n",
              "      <td>0.83</td>\n",
              "      <td>24.33</td>\n",
              "      <td>24.33</td>\n",
              "    </tr>\n",
              "    <tr>\n",
              "      <th>3</th>\n",
              "      <td>8073894</td>\n",
              "      <td>Jabranti</td>\n",
              "      <td>108.678001</td>\n",
              "      <td>-7.11980</td>\n",
              "      <td>light rain</td>\n",
              "      <td>1.83</td>\n",
              "      <td>21.75</td>\n",
              "      <td>21.75</td>\n",
              "    </tr>\n",
              "    <tr>\n",
              "      <th>4</th>\n",
              "      <td>1642954</td>\n",
              "      <td>Jabung</td>\n",
              "      <td>105.667519</td>\n",
              "      <td>-5.46314</td>\n",
              "      <td>scattered clouds</td>\n",
              "      <td>0.90</td>\n",
              "      <td>24.99</td>\n",
              "      <td>24.99</td>\n",
              "    </tr>\n",
              "  </tbody>\n",
              "</table>\n",
              "</div>"
            ],
            "text/plain": [
              "        ID Nama Kota  ...  Temperatur Maksimum  Temperatur Minimum\n",
              "0  7529289  Jabajero  ...                26.97               26.97\n",
              "1  7579621   Jabalan  ...                24.17               24.17\n",
              "2  7034573     Jabon  ...                24.33               24.33\n",
              "3  8073894  Jabranti  ...                21.75               21.75\n",
              "4  1642954    Jabung  ...                24.99               24.99\n",
              "\n",
              "[5 rows x 8 columns]"
            ]
          },
          "metadata": {},
          "execution_count": 163
        }
      ]
    },
    {
      "cell_type": "markdown",
      "metadata": {
        "id": "aXy1LdGA2gDm"
      },
      "source": [
        "# Menyimpan Data dalam Format CSV"
      ]
    },
    {
      "cell_type": "code",
      "metadata": {
        "id": "JPURjkiTy96n"
      },
      "source": [
        "data.to_csv('cuaca.csv', index=False)"
      ],
      "execution_count": 166,
      "outputs": []
    }
  ]
}